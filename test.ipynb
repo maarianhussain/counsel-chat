from datasets import load_dataset

dataset = load_dataset("nbertagnolli/counsel-chat")
